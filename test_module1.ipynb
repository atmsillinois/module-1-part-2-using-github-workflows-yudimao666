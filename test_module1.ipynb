{
 "cells": [
  {
   "cell_type": "code",
   "execution_count": 16,
   "id": "bb68f28b",
   "metadata": {},
   "outputs": [
    {
     "name": "stdout",
     "output_type": "stream",
     "text": [
      "\n",
      "Inputs: 13.0 89.0 19.0 298.0\n",
      "Final result: 6550934.0\n"
     ]
    }
   ],
   "source": [
    "\n",
    "\"\"\"Simple calculator script.\n",
    "\n",
    "This script takes four numbers as input, adds or multiply them together,\n",
    "and prints both the inputs and the result.\n",
    "\"\"\"\n",
    "\n",
    "\n",
    "def add_numbers(var_one, var_two, var_three, var_four):\n",
    "    \"\"\"Return the sum of four numbers.\"\"\"\n",
    "    return var_one + var_two + var_three + var_four\n",
    "\n",
    "\n",
    "def multiply_numbers(var_one, var_two, var_three, var_four):\n",
    "    \"\"\"Return the product of four numbers.\"\"\"\n",
    "    return var_one * var_two * var_three * var_four\n",
    "\n",
    "\n",
    "def main():\n",
    "    \"\"\"Prompt the user for input, calculate sum or product, and print results.\"\"\"\n",
    "    var_one = float(input(\"Enter the first number: \"))\n",
    "    var_two = float(input(\"Enter the second number: \"))\n",
    "    var_three = float(input(\"Enter the third number: \"))\n",
    "    var_four = float(input(\"Enter the fourth number: \"))\n",
    "\n",
    "    choice = input(\"Type 'sum' to add or 'product' to multiply: \").strip().lower()\n",
    "\n",
    "    if choice == \"sum\":\n",
    "        result = add_numbers(var_one, var_two, var_three, var_four)\n",
    "    elif choice == \"product\":\n",
    "        result = multiply_numbers(var_one, var_two, var_three, var_four)\n",
    "    else:\n",
    "        print(\"Invalid choice\")\n",
    "        return  \n",
    "\n",
    "    print(\"\\nInputs:\", var_one, var_two, var_three, var_four)\n",
    "    print(\"Final result:\", result)\n",
    "\n",
    "\n",
    "if __name__ == \"__main__\":\n",
    "    main()\n",
    "\n"
   ]
  },
  {
   "cell_type": "code",
   "execution_count": null,
   "id": "873f268c",
   "metadata": {},
   "outputs": [],
   "source": [
    "!git add test_module1.ipynb\n",
    "!git commit -m \"Add multiply_numbers function and user choice\"\n",
    "!git push --set-upstream origin feature-multiply\n"
   ]
  }
 ],
 "metadata": {
  "kernelspec": {
   "display_name": "Python 3 (ipykernel)",
   "language": "python",
   "name": "python3"
  },
  "language_info": {
   "codemirror_mode": {
    "name": "ipython",
    "version": 3
   },
   "file_extension": ".py",
   "mimetype": "text/x-python",
   "name": "python",
   "nbconvert_exporter": "python",
   "pygments_lexer": "ipython3",
   "version": "3.12.1"
  }
 },
 "nbformat": 4,
 "nbformat_minor": 5
}
