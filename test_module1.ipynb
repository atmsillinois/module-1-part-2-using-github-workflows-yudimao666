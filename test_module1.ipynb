{
 "cells": [
  {
   "cell_type": "code",
   "execution_count": null,
   "id": "bb68f28b",
   "metadata": {},
   "outputs": [
    {
     "name": "stdout",
     "output_type": "stream",
     "text": [
      "\n",
      "Inputs:  13.0 15.0 98.0 1093.0\n",
      "Output:  1219.0\n"
     ]
    }
   ],
   "source": [
    "\n",
    "\"\"\"Simple calculator script.\n",
    "\n",
    "This script takes four numbers as input, adds them together,\n",
    "and prints both the inputs and the result.\n",
    "\"\"\"\n",
    "\n",
    "def add_numbers(var_one, var_two, var_three, var_four):\n",
    "    \"\"\"Return the sum of four numbers.\n",
    "\n",
    "    Args:\n",
    "        var_one (int or float): The first number.\n",
    "        var_two (int or float): The second number.\n",
    "        var_three (int or float): The third number.\n",
    "        var_four (int or float): The fourth number.\n",
    "\n",
    "    Returns:\n",
    "        int or float: The sum of the four input numbers.\n",
    "    \"\"\"\n",
    "    return var_one + var_two + var_three + var_four\n",
    "\n",
    "\n",
    "def main():\n",
    "    \"\"\"Prompt the user for input, calculate the sum, and print results.\"\"\"\n",
    "    var_one = float(input(\"Enter the first number: \"))\n",
    "    var_two = float(input(\"Enter the second number: \"))\n",
    "    var_three = float(input(\"Enter the third number: \"))\n",
    "    var_four = float(input(\"Enter the fourth number: \"))\n",
    "\n",
    "    total = add_numbers(var_one, var_two, var_three, var_four)\n",
    "\n",
    "    print(\"\\nInputs: \", var_one, var_two, var_three, var_four)\n",
    "    print(\"Output: \", total)\n",
    "\n",
    "\n",
    "if __name__ == \"__main__\":\n",
    "    main()\n"
   ]
  },
  {
   "cell_type": "code",
   "execution_count": null,
   "id": "afb6ac6f",
   "metadata": {},
   "outputs": [
    {
     "name": "stdout",
     "output_type": "stream",
     "text": [
      "README.md  test_module1.ipynb\n"
     ]
    }
   ],
   "source": [
    "!git add test_module1.ipynb\n",
    "!git commit -m \"Add test_module1.ipynb notebook\"\n",
    "!git push origin main\n"
   ]
  }
 ],
 "metadata": {
  "kernelspec": {
   "display_name": "Python 3 (ipykernel)",
   "language": "python",
   "name": "python3"
  },
  "language_info": {
   "codemirror_mode": {
    "name": "ipython",
    "version": 3
   },
   "file_extension": ".py",
   "mimetype": "text/x-python",
   "name": "python",
   "nbconvert_exporter": "python",
   "pygments_lexer": "ipython3",
   "version": "3.12.1"
  }
 },
 "nbformat": 4,
 "nbformat_minor": 5
}
